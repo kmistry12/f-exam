{
 "cells": [
  {
   "cell_type": "markdown",
   "id": "0cc869cb",
   "metadata": {},
   "source": [
    "# <h3><center><font color='magenta'> Final Exam (CVEN_5301) </font></center></h3>"
   ]
  },
  {
   "cell_type": "markdown",
   "id": "c6a34a6d",
   "metadata": {},
   "source": [
    "# <h4><font color='red'> Kevinbhai P Mistry </font> </h4>"
   ]
  },
  {
   "cell_type": "markdown",
   "id": "c7789a51",
   "metadata": {},
   "source": [
    "# <p4> Problem No.2 </p4>"
   ]
  },
  {
   "cell_type": "code",
   "execution_count": 1,
   "id": "2d1b735d",
   "metadata": {},
   "outputs": [],
   "source": [
    "import numpy as np"
   ]
  },
  {
   "cell_type": "code",
   "execution_count": 3,
   "id": "3de9f6fb",
   "metadata": {},
   "outputs": [],
   "source": [
    "def gringorten_plotting_postion(x):# writing a function\n",
    "    n = len(x) # legth of data\n",
    "    i = 0\n",
    "    \n",
    "    r= x.sort_values(ascending=True) # r= rank of data, n = total  no. of data points \n",
    "    f= r- 0.44/n+0.12 #equation for empirical cumualtive \n",
    "    return f\n"
   ]
  },
  {
   "cell_type": "code",
   "execution_count": null,
   "id": "48d6c459",
   "metadata": {},
   "outputs": [],
   "source": [
    "x = []"
   ]
  },
  {
   "cell_type": "code",
   "execution_count": null,
   "id": "e00300b6",
   "metadata": {},
   "outputs": [],
   "source": [
    "gringorten_plotting_postion(x)"
   ]
  },
  {
   "cell_type": "code",
   "execution_count": null,
   "id": "1ffd84c3",
   "metadata": {},
   "outputs": [],
   "source": []
  },
  {
   "cell_type": "code",
   "execution_count": null,
   "id": "e04e9e61",
   "metadata": {},
   "outputs": [],
   "source": []
  },
  {
   "cell_type": "markdown",
   "id": "27f09910",
   "metadata": {},
   "source": [
    "# <p4> Problem No.1 </p4>"
   ]
  },
  {
   "cell_type": "markdown",
   "id": "c74ede22",
   "metadata": {},
   "source": [
    "<h4><font color='red'> Solve the forces on each members of the truss and reactions </font> </h4>"
   ]
  },
  {
   "cell_type": "code",
   "execution_count": 8,
   "id": "724624f5",
   "metadata": {},
   "outputs": [],
   "source": [
    "import numpy as np"
   ]
  },
  {
   "cell_type": "code",
   "execution_count": 25,
   "id": "9b649de2",
   "metadata": {},
   "outputs": [],
   "source": [
    "# initializing matrix\n",
    "x = np.array([[60, 60], [45, 45]]) # truss angles \n",
    "y = np.array([[30, 30], [30, 45]])"
   ]
  },
  {
   "cell_type": "code",
   "execution_count": null,
   "id": "a04f2d73",
   "metadata": {},
   "outputs": [],
   "source": []
  },
  {
   "cell_type": "code",
   "execution_count": 30,
   "id": "78d4445a",
   "metadata": {},
   "outputs": [],
   "source": [
    "def angle_rowwise_v2(A, B):\n",
    "    p1 = np.einsum('ij,ij->i',A,B)\n",
    "    p2 = np.einsum('ij,ij->i',A,A)\n",
    "    p3 = np.einsum('ij,ij->i',B,B)\n",
    "    p4 = p1 / np.sqrt(p2*p3)\n",
    "    return np.arccos(np.clip(p4,-2.0,6.0))\n",
    "\n"
   ]
  },
  {
   "cell_type": "code",
   "execution_count": 31,
   "id": "25711949",
   "metadata": {},
   "outputs": [
    {
     "data": {
      "text/plain": [
       "array([ 0.        , 19.73955598])"
      ]
     },
     "execution_count": 31,
     "metadata": {},
     "output_type": "execute_result"
    }
   ],
   "source": [
    "angle_rowwise_v2(x,y)*100"
   ]
  },
  {
   "cell_type": "code",
   "execution_count": null,
   "id": "e032fcb9",
   "metadata": {},
   "outputs": [],
   "source": []
  },
  {
   "cell_type": "markdown",
   "id": "0a83f614",
   "metadata": {},
   "source": [
    "# <p4> Problem No.3 </p4>"
   ]
  },
  {
   "cell_type": "markdown",
   "id": "dfef89ca",
   "metadata": {},
   "source": [
    "<h4><font color='red'> What is the maximum depth and width of th water in the channel </font> </h4>"
   ]
  },
  {
   "cell_type": "code",
   "execution_count": 6,
   "id": "7923635e",
   "metadata": {},
   "outputs": [],
   "source": [
    "import numpy as np\n",
    "import math"
   ]
  },
  {
   "cell_type": "code",
   "execution_count": null,
   "id": "b32342f4",
   "metadata": {},
   "outputs": [],
   "source": [
    "#manning equation \n",
    "#Q= flowrate\n",
    "#A=cross sectional area\n",
    "#R= wetted perimeter \n",
    "#n= mannings co-effient \n",
    "\n",
    "Q = (1.49/n)*A*R**0.67*sqrt(s)"
   ]
  },
  {
   "cell_type": "code",
   "execution_count": null,
   "id": "76ed903e",
   "metadata": {},
   "outputs": [],
   "source": []
  },
  {
   "cell_type": "code",
   "execution_count": null,
   "id": "16144ff6",
   "metadata": {},
   "outputs": [],
   "source": []
  },
  {
   "cell_type": "code",
   "execution_count": null,
   "id": "217883d3",
   "metadata": {},
   "outputs": [],
   "source": []
  }
 ],
 "metadata": {
  "kernelspec": {
   "display_name": "Python 3 (ipykernel)",
   "language": "python",
   "name": "python3"
  },
  "language_info": {
   "codemirror_mode": {
    "name": "ipython",
    "version": 3
   },
   "file_extension": ".py",
   "mimetype": "text/x-python",
   "name": "python",
   "nbconvert_exporter": "python",
   "pygments_lexer": "ipython3",
   "version": "3.9.7"
  }
 },
 "nbformat": 4,
 "nbformat_minor": 5
}
